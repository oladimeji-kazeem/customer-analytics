{
 "cells": [
  {
   "cell_type": "markdown",
   "id": "77024056",
   "metadata": {},
   "source": [
    "#### Package Import"
   ]
  },
  {
   "cell_type": "code",
   "execution_count": 31,
   "id": "9cbb3b94",
   "metadata": {},
   "outputs": [],
   "source": [
    "# Import required libraries\n",
    "import pandas as pd\n",
    "import numpy as np\n",
    "import matplotlib.pyplot as plt\n",
    "import seaborn as sns\n",
    "from sklearn.model_selection import train_test_split\n",
    "from sklearn.preprocessing import StandardScaler\n",
    "from sklearn.metrics import accuracy_score, precision_score, recall_score, f1_score\n",
    "from sklearn.linear_model import LogisticRegression\n",
    "from sklearn.tree import DecisionTreeClassifier\n",
    "from sklearn.ensemble import RandomForestClassifier\n",
    "from xgboost import XGBClassifier\n",
    "from sklearn.preprocessing import LabelEncoder"
   ]
  },
  {
   "cell_type": "code",
   "execution_count": 32,
   "id": "9ebcd8c5",
   "metadata": {},
   "outputs": [],
   "source": [
    "# Load dataset\n",
    "data = pd.read_csv('Data/customer_churn.csv')"
   ]
  },
  {
   "cell_type": "markdown",
   "id": "cd863e7a",
   "metadata": {},
   "source": [
    "### Data Understanding"
   ]
  },
  {
   "cell_type": "code",
   "execution_count": 33,
   "id": "d7f1e083",
   "metadata": {},
   "outputs": [
    {
     "data": {
      "text/html": [
       "<div>\n",
       "<style scoped>\n",
       "    .dataframe tbody tr th:only-of-type {\n",
       "        vertical-align: middle;\n",
       "    }\n",
       "\n",
       "    .dataframe tbody tr th {\n",
       "        vertical-align: top;\n",
       "    }\n",
       "\n",
       "    .dataframe thead th {\n",
       "        text-align: right;\n",
       "    }\n",
       "</style>\n",
       "<table border=\"1\" class=\"dataframe\">\n",
       "  <thead>\n",
       "    <tr style=\"text-align: right;\">\n",
       "      <th></th>\n",
       "      <th>customer_id</th>\n",
       "      <th>gender</th>\n",
       "      <th>age</th>\n",
       "      <th>location_type</th>\n",
       "      <th>tenure</th>\n",
       "      <th>partner</th>\n",
       "      <th>dependent</th>\n",
       "      <th>phone_service</th>\n",
       "      <th>multi_line</th>\n",
       "      <th>internet_service</th>\n",
       "      <th>...</th>\n",
       "      <th>device_protection</th>\n",
       "      <th>tech_support</th>\n",
       "      <th>streaming_tv</th>\n",
       "      <th>paperless_billing</th>\n",
       "      <th>streaming_movie</th>\n",
       "      <th>payment_method</th>\n",
       "      <th>contract_type</th>\n",
       "      <th>monthly_charges</th>\n",
       "      <th>total_charges</th>\n",
       "      <th>churn</th>\n",
       "    </tr>\n",
       "  </thead>\n",
       "  <tbody>\n",
       "    <tr>\n",
       "      <th>0</th>\n",
       "      <td>1</td>\n",
       "      <td>Male</td>\n",
       "      <td>59</td>\n",
       "      <td>Urban</td>\n",
       "      <td>6</td>\n",
       "      <td>Yes</td>\n",
       "      <td>No</td>\n",
       "      <td>No</td>\n",
       "      <td>Yes</td>\n",
       "      <td>None</td>\n",
       "      <td>...</td>\n",
       "      <td>Yes</td>\n",
       "      <td>No Internet Service</td>\n",
       "      <td>No</td>\n",
       "      <td>Yes</td>\n",
       "      <td>No</td>\n",
       "      <td>Electronic check</td>\n",
       "      <td>Two year</td>\n",
       "      <td>82.571303</td>\n",
       "      <td>495.427816</td>\n",
       "      <td>1</td>\n",
       "    </tr>\n",
       "    <tr>\n",
       "      <th>1</th>\n",
       "      <td>2</td>\n",
       "      <td>Female</td>\n",
       "      <td>38</td>\n",
       "      <td>Rural</td>\n",
       "      <td>8</td>\n",
       "      <td>No</td>\n",
       "      <td>No</td>\n",
       "      <td>Yes</td>\n",
       "      <td>No</td>\n",
       "      <td>DSL</td>\n",
       "      <td>...</td>\n",
       "      <td>No</td>\n",
       "      <td>No Internet Service</td>\n",
       "      <td>No Internet Service</td>\n",
       "      <td>Yes</td>\n",
       "      <td>No</td>\n",
       "      <td>Electronic check</td>\n",
       "      <td>Month-to-month</td>\n",
       "      <td>45.016283</td>\n",
       "      <td>360.130262</td>\n",
       "      <td>0</td>\n",
       "    </tr>\n",
       "    <tr>\n",
       "      <th>2</th>\n",
       "      <td>3</td>\n",
       "      <td>Male</td>\n",
       "      <td>54</td>\n",
       "      <td>Urban</td>\n",
       "      <td>24</td>\n",
       "      <td>Yes</td>\n",
       "      <td>No</td>\n",
       "      <td>No</td>\n",
       "      <td>Yes</td>\n",
       "      <td>None</td>\n",
       "      <td>...</td>\n",
       "      <td>Yes</td>\n",
       "      <td>No Internet Service</td>\n",
       "      <td>Yes</td>\n",
       "      <td>Yes</td>\n",
       "      <td>No</td>\n",
       "      <td>Credit card</td>\n",
       "      <td>Two year</td>\n",
       "      <td>63.609950</td>\n",
       "      <td>1526.638792</td>\n",
       "      <td>0</td>\n",
       "    </tr>\n",
       "    <tr>\n",
       "      <th>3</th>\n",
       "      <td>4</td>\n",
       "      <td>Male</td>\n",
       "      <td>44</td>\n",
       "      <td>Urban</td>\n",
       "      <td>7</td>\n",
       "      <td>Yes</td>\n",
       "      <td>Yes</td>\n",
       "      <td>Yes</td>\n",
       "      <td>No</td>\n",
       "      <td>Fibre Optics</td>\n",
       "      <td>...</td>\n",
       "      <td>Yes</td>\n",
       "      <td>Yes</td>\n",
       "      <td>No</td>\n",
       "      <td>No</td>\n",
       "      <td>Yes</td>\n",
       "      <td>Electronic check</td>\n",
       "      <td>One year</td>\n",
       "      <td>65.777708</td>\n",
       "      <td>460.443956</td>\n",
       "      <td>0</td>\n",
       "    </tr>\n",
       "    <tr>\n",
       "      <th>4</th>\n",
       "      <td>5</td>\n",
       "      <td>Male</td>\n",
       "      <td>46</td>\n",
       "      <td>Rural</td>\n",
       "      <td>21</td>\n",
       "      <td>Yes</td>\n",
       "      <td>No</td>\n",
       "      <td>No</td>\n",
       "      <td>No</td>\n",
       "      <td>None</td>\n",
       "      <td>...</td>\n",
       "      <td>No</td>\n",
       "      <td>No</td>\n",
       "      <td>No Internet Service</td>\n",
       "      <td>Yes</td>\n",
       "      <td>No</td>\n",
       "      <td>Mail check</td>\n",
       "      <td>Month-to-month</td>\n",
       "      <td>46.437305</td>\n",
       "      <td>975.183409</td>\n",
       "      <td>0</td>\n",
       "    </tr>\n",
       "  </tbody>\n",
       "</table>\n",
       "<p>5 rows × 22 columns</p>\n",
       "</div>"
      ],
      "text/plain": [
       "   customer_id  gender  age location_type  tenure partner dependent  \\\n",
       "0            1    Male   59         Urban       6     Yes        No   \n",
       "1            2  Female   38         Rural       8      No        No   \n",
       "2            3    Male   54         Urban      24     Yes        No   \n",
       "3            4    Male   44         Urban       7     Yes       Yes   \n",
       "4            5    Male   46         Rural      21     Yes        No   \n",
       "\n",
       "  phone_service multi_line internet_service  ... device_protection  \\\n",
       "0            No        Yes             None  ...               Yes   \n",
       "1           Yes         No              DSL  ...                No   \n",
       "2            No        Yes             None  ...               Yes   \n",
       "3           Yes         No     Fibre Optics  ...               Yes   \n",
       "4            No         No             None  ...                No   \n",
       "\n",
       "          tech_support         streaming_tv paperless_billing streaming_movie  \\\n",
       "0  No Internet Service                   No               Yes              No   \n",
       "1  No Internet Service  No Internet Service               Yes              No   \n",
       "2  No Internet Service                  Yes               Yes              No   \n",
       "3                  Yes                   No                No             Yes   \n",
       "4                   No  No Internet Service               Yes              No   \n",
       "\n",
       "     payment_method   contract_type monthly_charges total_charges  churn  \n",
       "0  Electronic check        Two year       82.571303    495.427816      1  \n",
       "1  Electronic check  Month-to-month       45.016283    360.130262      0  \n",
       "2       Credit card        Two year       63.609950   1526.638792      0  \n",
       "3  Electronic check        One year       65.777708    460.443956      0  \n",
       "4        Mail check  Month-to-month       46.437305    975.183409      0  \n",
       "\n",
       "[5 rows x 22 columns]"
      ]
     },
     "execution_count": 33,
     "metadata": {},
     "output_type": "execute_result"
    }
   ],
   "source": [
    "# Data Understanding\n",
    "data.head()"
   ]
  },
  {
   "cell_type": "code",
   "execution_count": 34,
   "id": "b5d228f9",
   "metadata": {},
   "outputs": [
    {
     "name": "stdout",
     "output_type": "stream",
     "text": [
      "<class 'pandas.core.frame.DataFrame'>\n",
      "RangeIndex: 8000 entries, 0 to 7999\n",
      "Data columns (total 22 columns):\n",
      " #   Column             Non-Null Count  Dtype  \n",
      "---  ------             --------------  -----  \n",
      " 0   customer_id        8000 non-null   int64  \n",
      " 1   gender             8000 non-null   object \n",
      " 2   age                8000 non-null   int64  \n",
      " 3   location_type      8000 non-null   object \n",
      " 4   tenure             8000 non-null   int64  \n",
      " 5   partner            8000 non-null   object \n",
      " 6   dependent          8000 non-null   object \n",
      " 7   phone_service      8000 non-null   object \n",
      " 8   multi_line         8000 non-null   object \n",
      " 9   internet_service   8000 non-null   object \n",
      " 10  online_security    8000 non-null   object \n",
      " 11  online_backup      8000 non-null   object \n",
      " 12  device_protection  8000 non-null   object \n",
      " 13  tech_support       8000 non-null   object \n",
      " 14  streaming_tv       8000 non-null   object \n",
      " 15  paperless_billing  8000 non-null   object \n",
      " 16  streaming_movie    8000 non-null   object \n",
      " 17  payment_method     8000 non-null   object \n",
      " 18  contract_type      8000 non-null   object \n",
      " 19  monthly_charges    8000 non-null   float64\n",
      " 20  total_charges      8000 non-null   float64\n",
      " 21  churn              8000 non-null   int64  \n",
      "dtypes: float64(2), int64(4), object(16)\n",
      "memory usage: 1.3+ MB\n"
     ]
    }
   ],
   "source": [
    "#checking the dataset information\n",
    "data.info()"
   ]
  },
  {
   "cell_type": "code",
   "execution_count": 35,
   "id": "ae173684",
   "metadata": {},
   "outputs": [
    {
     "data": {
      "text/html": [
       "<div>\n",
       "<style scoped>\n",
       "    .dataframe tbody tr th:only-of-type {\n",
       "        vertical-align: middle;\n",
       "    }\n",
       "\n",
       "    .dataframe tbody tr th {\n",
       "        vertical-align: top;\n",
       "    }\n",
       "\n",
       "    .dataframe thead th {\n",
       "        text-align: right;\n",
       "    }\n",
       "</style>\n",
       "<table border=\"1\" class=\"dataframe\">\n",
       "  <thead>\n",
       "    <tr style=\"text-align: right;\">\n",
       "      <th></th>\n",
       "      <th>customer_id</th>\n",
       "      <th>age</th>\n",
       "      <th>tenure</th>\n",
       "      <th>monthly_charges</th>\n",
       "      <th>total_charges</th>\n",
       "      <th>churn</th>\n",
       "    </tr>\n",
       "  </thead>\n",
       "  <tbody>\n",
       "    <tr>\n",
       "      <th>count</th>\n",
       "      <td>8000.00000</td>\n",
       "      <td>8000.000000</td>\n",
       "      <td>8000.000000</td>\n",
       "      <td>8000.000000</td>\n",
       "      <td>8000.000000</td>\n",
       "      <td>8000.000000</td>\n",
       "    </tr>\n",
       "    <tr>\n",
       "      <th>mean</th>\n",
       "      <td>4000.50000</td>\n",
       "      <td>40.851375</td>\n",
       "      <td>12.464875</td>\n",
       "      <td>69.862364</td>\n",
       "      <td>872.980111</td>\n",
       "      <td>0.267750</td>\n",
       "    </tr>\n",
       "    <tr>\n",
       "      <th>std</th>\n",
       "      <td>2309.54541</td>\n",
       "      <td>13.433516</td>\n",
       "      <td>6.905540</td>\n",
       "      <td>19.746450</td>\n",
       "      <td>560.641958</td>\n",
       "      <td>0.442814</td>\n",
       "    </tr>\n",
       "    <tr>\n",
       "      <th>min</th>\n",
       "      <td>1.00000</td>\n",
       "      <td>18.000000</td>\n",
       "      <td>1.000000</td>\n",
       "      <td>-8.800168</td>\n",
       "      <td>-26.392111</td>\n",
       "      <td>0.000000</td>\n",
       "    </tr>\n",
       "    <tr>\n",
       "      <th>25%</th>\n",
       "      <td>2000.75000</td>\n",
       "      <td>29.000000</td>\n",
       "      <td>6.000000</td>\n",
       "      <td>56.575638</td>\n",
       "      <td>405.326574</td>\n",
       "      <td>0.000000</td>\n",
       "    </tr>\n",
       "    <tr>\n",
       "      <th>50%</th>\n",
       "      <td>4000.50000</td>\n",
       "      <td>41.000000</td>\n",
       "      <td>13.000000</td>\n",
       "      <td>69.699959</td>\n",
       "      <td>805.225076</td>\n",
       "      <td>0.000000</td>\n",
       "    </tr>\n",
       "    <tr>\n",
       "      <th>75%</th>\n",
       "      <td>6000.25000</td>\n",
       "      <td>52.000000</td>\n",
       "      <td>18.000000</td>\n",
       "      <td>83.012243</td>\n",
       "      <td>1255.480680</td>\n",
       "      <td>1.000000</td>\n",
       "    </tr>\n",
       "    <tr>\n",
       "      <th>max</th>\n",
       "      <td>8000.00000</td>\n",
       "      <td>64.000000</td>\n",
       "      <td>24.000000</td>\n",
       "      <td>145.203105</td>\n",
       "      <td>3076.377427</td>\n",
       "      <td>1.000000</td>\n",
       "    </tr>\n",
       "  </tbody>\n",
       "</table>\n",
       "</div>"
      ],
      "text/plain": [
       "       customer_id          age       tenure  monthly_charges  total_charges  \\\n",
       "count   8000.00000  8000.000000  8000.000000      8000.000000    8000.000000   \n",
       "mean    4000.50000    40.851375    12.464875        69.862364     872.980111   \n",
       "std     2309.54541    13.433516     6.905540        19.746450     560.641958   \n",
       "min        1.00000    18.000000     1.000000        -8.800168     -26.392111   \n",
       "25%     2000.75000    29.000000     6.000000        56.575638     405.326574   \n",
       "50%     4000.50000    41.000000    13.000000        69.699959     805.225076   \n",
       "75%     6000.25000    52.000000    18.000000        83.012243    1255.480680   \n",
       "max     8000.00000    64.000000    24.000000       145.203105    3076.377427   \n",
       "\n",
       "             churn  \n",
       "count  8000.000000  \n",
       "mean      0.267750  \n",
       "std       0.442814  \n",
       "min       0.000000  \n",
       "25%       0.000000  \n",
       "50%       0.000000  \n",
       "75%       1.000000  \n",
       "max       1.000000  "
      ]
     },
     "execution_count": 35,
     "metadata": {},
     "output_type": "execute_result"
    }
   ],
   "source": [
    "#checking the data statistics\n",
    "data.describe()"
   ]
  },
  {
   "cell_type": "markdown",
   "id": "7d91d866",
   "metadata": {},
   "source": [
    "### Data Preparation"
   ]
  },
  {
   "cell_type": "code",
   "execution_count": 36,
   "id": "e1dce39e",
   "metadata": {},
   "outputs": [],
   "source": [
    "# Drop the redundant customer ID\n",
    "data1 = data.drop(['customer_id'], axis=1)"
   ]
  },
  {
   "cell_type": "code",
   "execution_count": 37,
   "id": "a35ffabd",
   "metadata": {},
   "outputs": [],
   "source": [
    "#Replace missing values on the TotalCharges with nan\n",
    "data1['total_charges'] = data1['total_charges'].replace(' ', np.nan)\n",
    "\n",
    "#Drop nan\n",
    "data1 = data1.dropna()"
   ]
  },
  {
   "cell_type": "code",
   "execution_count": 38,
   "id": "115aecd7",
   "metadata": {},
   "outputs": [],
   "source": [
    "#replace 1 with Yes and 0 with No on the churn column\n",
    "data1['churn'] = data1['churn'].replace({'Yes': 1, 'No': 0})"
   ]
  },
  {
   "cell_type": "code",
   "execution_count": 39,
   "id": "279eb05b",
   "metadata": {},
   "outputs": [],
   "source": [
    "# create a LabelEncoder object\n",
    "le = LabelEncoder()"
   ]
  },
  {
   "cell_type": "code",
   "execution_count": 40,
   "id": "705e418a",
   "metadata": {},
   "outputs": [],
   "source": [
    "#Creating a list of categorical Features\n",
    "cat_features = ['gender', 'location_type', 'partner','dependent','phone_service','multi_line','internet_service','online_security','online_backup','device_protection','tech_support','streaming_tv','paperless_billing','streaming_movie','payment_method','contract_type']"
   ]
  },
  {
   "cell_type": "code",
   "execution_count": 41,
   "id": "640de689",
   "metadata": {},
   "outputs": [],
   "source": [
    "# apply the LabelEncoder to each categorical feature\n",
    "for feature in cat_features:\n",
    "    data1[feature] = le.fit_transform(data1[feature])"
   ]
  },
  {
   "cell_type": "code",
   "execution_count": 42,
   "id": "b3afb13f",
   "metadata": {},
   "outputs": [],
   "source": [
    "#separating the variables into target(y) and features(X)\n",
    "X = data1.drop(['churn'], axis=1)\n",
    "y = data1['churn']"
   ]
  },
  {
   "cell_type": "code",
   "execution_count": 43,
   "id": "451a61a0",
   "metadata": {},
   "outputs": [],
   "source": [
    "#spliting the dataset into training and test sets\n",
    "X_train, X_test, y_train, y_test = train_test_split(X, y, test_size=0.25, random_state=42)"
   ]
  },
  {
   "cell_type": "code",
   "execution_count": 44,
   "id": "a141b52e",
   "metadata": {},
   "outputs": [
    {
     "data": {
      "text/html": [
       "<div>\n",
       "<style scoped>\n",
       "    .dataframe tbody tr th:only-of-type {\n",
       "        vertical-align: middle;\n",
       "    }\n",
       "\n",
       "    .dataframe tbody tr th {\n",
       "        vertical-align: top;\n",
       "    }\n",
       "\n",
       "    .dataframe thead th {\n",
       "        text-align: right;\n",
       "    }\n",
       "</style>\n",
       "<table border=\"1\" class=\"dataframe\">\n",
       "  <thead>\n",
       "    <tr style=\"text-align: right;\">\n",
       "      <th></th>\n",
       "      <th>gender</th>\n",
       "      <th>age</th>\n",
       "      <th>location_type</th>\n",
       "      <th>tenure</th>\n",
       "      <th>partner</th>\n",
       "      <th>dependent</th>\n",
       "      <th>phone_service</th>\n",
       "      <th>multi_line</th>\n",
       "      <th>internet_service</th>\n",
       "      <th>online_security</th>\n",
       "      <th>online_backup</th>\n",
       "      <th>device_protection</th>\n",
       "      <th>tech_support</th>\n",
       "      <th>streaming_tv</th>\n",
       "      <th>paperless_billing</th>\n",
       "      <th>streaming_movie</th>\n",
       "      <th>payment_method</th>\n",
       "      <th>contract_type</th>\n",
       "      <th>monthly_charges</th>\n",
       "      <th>total_charges</th>\n",
       "    </tr>\n",
       "  </thead>\n",
       "  <tbody>\n",
       "    <tr>\n",
       "      <th>3836</th>\n",
       "      <td>1</td>\n",
       "      <td>34</td>\n",
       "      <td>1</td>\n",
       "      <td>2</td>\n",
       "      <td>1</td>\n",
       "      <td>0</td>\n",
       "      <td>0</td>\n",
       "      <td>0</td>\n",
       "      <td>0</td>\n",
       "      <td>2</td>\n",
       "      <td>1</td>\n",
       "      <td>0</td>\n",
       "      <td>2</td>\n",
       "      <td>2</td>\n",
       "      <td>1</td>\n",
       "      <td>2</td>\n",
       "      <td>2</td>\n",
       "      <td>2</td>\n",
       "      <td>55.797220</td>\n",
       "      <td>111.594440</td>\n",
       "    </tr>\n",
       "    <tr>\n",
       "      <th>6408</th>\n",
       "      <td>0</td>\n",
       "      <td>33</td>\n",
       "      <td>1</td>\n",
       "      <td>18</td>\n",
       "      <td>1</td>\n",
       "      <td>1</td>\n",
       "      <td>0</td>\n",
       "      <td>1</td>\n",
       "      <td>1</td>\n",
       "      <td>1</td>\n",
       "      <td>1</td>\n",
       "      <td>1</td>\n",
       "      <td>2</td>\n",
       "      <td>0</td>\n",
       "      <td>0</td>\n",
       "      <td>0</td>\n",
       "      <td>0</td>\n",
       "      <td>2</td>\n",
       "      <td>71.442186</td>\n",
       "      <td>1285.959353</td>\n",
       "    </tr>\n",
       "    <tr>\n",
       "      <th>4840</th>\n",
       "      <td>0</td>\n",
       "      <td>49</td>\n",
       "      <td>1</td>\n",
       "      <td>2</td>\n",
       "      <td>1</td>\n",
       "      <td>1</td>\n",
       "      <td>1</td>\n",
       "      <td>0</td>\n",
       "      <td>1</td>\n",
       "      <td>1</td>\n",
       "      <td>0</td>\n",
       "      <td>1</td>\n",
       "      <td>1</td>\n",
       "      <td>2</td>\n",
       "      <td>0</td>\n",
       "      <td>0</td>\n",
       "      <td>0</td>\n",
       "      <td>0</td>\n",
       "      <td>71.082751</td>\n",
       "      <td>142.165502</td>\n",
       "    </tr>\n",
       "    <tr>\n",
       "      <th>527</th>\n",
       "      <td>0</td>\n",
       "      <td>51</td>\n",
       "      <td>1</td>\n",
       "      <td>12</td>\n",
       "      <td>1</td>\n",
       "      <td>1</td>\n",
       "      <td>0</td>\n",
       "      <td>0</td>\n",
       "      <td>1</td>\n",
       "      <td>1</td>\n",
       "      <td>0</td>\n",
       "      <td>0</td>\n",
       "      <td>2</td>\n",
       "      <td>1</td>\n",
       "      <td>0</td>\n",
       "      <td>1</td>\n",
       "      <td>1</td>\n",
       "      <td>0</td>\n",
       "      <td>60.166087</td>\n",
       "      <td>721.993041</td>\n",
       "    </tr>\n",
       "    <tr>\n",
       "      <th>6105</th>\n",
       "      <td>0</td>\n",
       "      <td>21</td>\n",
       "      <td>1</td>\n",
       "      <td>14</td>\n",
       "      <td>0</td>\n",
       "      <td>0</td>\n",
       "      <td>1</td>\n",
       "      <td>2</td>\n",
       "      <td>2</td>\n",
       "      <td>1</td>\n",
       "      <td>2</td>\n",
       "      <td>0</td>\n",
       "      <td>2</td>\n",
       "      <td>2</td>\n",
       "      <td>0</td>\n",
       "      <td>0</td>\n",
       "      <td>0</td>\n",
       "      <td>1</td>\n",
       "      <td>53.471001</td>\n",
       "      <td>748.594018</td>\n",
       "    </tr>\n",
       "  </tbody>\n",
       "</table>\n",
       "</div>"
      ],
      "text/plain": [
       "      gender  age  location_type  tenure  partner  dependent  phone_service  \\\n",
       "3836       1   34              1       2        1          0              0   \n",
       "6408       0   33              1      18        1          1              0   \n",
       "4840       0   49              1       2        1          1              1   \n",
       "527        0   51              1      12        1          1              0   \n",
       "6105       0   21              1      14        0          0              1   \n",
       "\n",
       "      multi_line  internet_service  online_security  online_backup  \\\n",
       "3836           0                 0                2              1   \n",
       "6408           1                 1                1              1   \n",
       "4840           0                 1                1              0   \n",
       "527            0                 1                1              0   \n",
       "6105           2                 2                1              2   \n",
       "\n",
       "      device_protection  tech_support  streaming_tv  paperless_billing  \\\n",
       "3836                  0             2             2                  1   \n",
       "6408                  1             2             0                  0   \n",
       "4840                  1             1             2                  0   \n",
       "527                   0             2             1                  0   \n",
       "6105                  0             2             2                  0   \n",
       "\n",
       "      streaming_movie  payment_method  contract_type  monthly_charges  \\\n",
       "3836                2               2              2        55.797220   \n",
       "6408                0               0              2        71.442186   \n",
       "4840                0               0              0        71.082751   \n",
       "527                 1               1              0        60.166087   \n",
       "6105                0               0              1        53.471001   \n",
       "\n",
       "      total_charges  \n",
       "3836     111.594440  \n",
       "6408    1285.959353  \n",
       "4840     142.165502  \n",
       "527      721.993041  \n",
       "6105     748.594018  "
      ]
     },
     "execution_count": 44,
     "metadata": {},
     "output_type": "execute_result"
    }
   ],
   "source": [
    "X_train.head()"
   ]
  },
  {
   "cell_type": "code",
   "execution_count": 45,
   "id": "934cea29",
   "metadata": {},
   "outputs": [],
   "source": [
    "#Scaling the data to reduce wide variations\n",
    "scaler = StandardScaler()\n",
    "X_train = scaler.fit_transform(X_train)\n",
    "X_test = scaler.transform(X_test)"
   ]
  },
  {
   "cell_type": "markdown",
   "id": "cd404d31",
   "metadata": {},
   "source": [
    "### Exploratory Data Analysis"
   ]
  },
  {
   "cell_type": "code",
   "execution_count": 48,
   "id": "4647872c",
   "metadata": {},
   "outputs": [
    {
     "data": {
      "image/png": "[encoded data removed]",
      "text/plain": [
       "<Figure size 432x288 with 1 Axes>"
      ]
     },
     "metadata": {
      "needs_background": "light"
     },
     "output_type": "display_data"
    },
    {
     "data": {
      "image/png": "[encoded data removed]",
      "text/plain": [
       "<Figure size 720x432 with 1 Axes>"
      ]
     },
     "metadata": {
      "needs_background": "light"
     },
     "output_type": "display_data"
    },
    {
     "data": {
      "image/png": "[encoded data removed]",
      "text/plain": [
       "<Figure size 432x288 with 1 Axes>"
      ]
     },
     "metadata": {
      "needs_background": "light"
     },
     "output_type": "display_data"
    },
    {
     "data": {
      "image/png": "[encoded data removed]",
      "text/plain": [
       "<Figure size 432x288 with 1 Axes>"
      ]
     },
     "metadata": {
      "needs_background": "light"
     },
     "output_type": "display_data"
    },
    {
     "data": {
      "image/png": "[encoded data removed]",
      "text/plain": [
       "<Figure size 432x288 with 1 Axes>"
      ]
     },
     "metadata": {
      "needs_background": "light"
     },
     "output_type": "display_data"
    }
   ],
   "source": [
    "sns.countplot(x='churn', data=data1)\n",
    "plt.show()\n",
    "plt.figure(figsize=(10, 6))\n",
    "sns.boxplot(x='churn', y='monthly_charges', data=data1)\n",
    "plt.show()\n",
    "sns.boxplot(x='churn', y='monthly_charges', data=data1)\n",
    "plt.show()\n",
    "sns.boxplot(x='churn', y='total_charges', data=data1)\n",
    "plt.show()\n",
    "sns.boxplot(x='churn', y='age', data=data1)\n",
    "plt.show()"
   ]
  },
  {
   "cell_type": "markdown",
   "id": "d40a8244",
   "metadata": {},
   "source": [
    "### Model Selection"
   ]
  },
  {
   "cell_type": "code",
   "execution_count": 49,
   "id": "b63dc916",
   "metadata": {},
   "outputs": [],
   "source": [
    "models = {\n",
    "    'Logistic Regression': LogisticRegression(),\n",
    "    'Decision Tree': DecisionTreeClassifier(),\n",
    "    'Random Forest': RandomForestClassifier(),\n",
    "    'XGBoost': XGBClassifier()\n",
    "}"
   ]
  },
  {
   "cell_type": "code",
   "execution_count": 50,
   "id": "b65473da",
   "metadata": {},
   "outputs": [],
   "source": [
    "# Predictive Modelling\n",
    "for name, model in models.items():\n",
    "    model.fit(X_train, y_train)\n",
    "    y_pred = model.predict(X_test)"
   ]
  },
  {
   "cell_type": "markdown",
   "id": "be880873",
   "metadata": {},
   "source": [
    "### Model Evaluation"
   ]
  },
  {
   "cell_type": "code",
   "execution_count": 51,
   "id": "1bbc4704",
   "metadata": {},
   "outputs": [
    {
     "name": "stdout",
     "output_type": "stream",
     "text": [
      "XGBoost\n",
      "Accuracy: 0.705\n",
      "Precision: 0.26506024096385544\n",
      "Recall: 0.0859375\n",
      "F1 score: 0.12979351032448377\n"
     ]
    }
   ],
   "source": [
    "    print(name)\n",
    "    print('Accuracy:', accuracy_score(y_test, y_pred))\n",
    "    print('Precision:', precision_score(y_test, y_pred))\n",
    "    print('Recall:', recall_score(y_test, y_pred))\n",
    "    print('F1 score:', f1_score(y_test, y_pred))"
   ]
  },
  {
   "cell_type": "markdown",
   "id": "1cdc009e",
   "metadata": {},
   "source": [
    "### Model Deployment"
   ]
  },
  {
   "cell_type": "code",
   "execution_count": 52,
   "id": "d2bcb176",
   "metadata": {},
   "outputs": [
    {
     "data": {
      "text/plain": [
       "XGBClassifier(base_score=None, booster=None, callbacks=None,\n",
       "              colsample_bylevel=None, colsample_bynode=None,\n",
       "              colsample_bytree=None, early_stopping_rounds=None,\n",
       "              enable_categorical=False, eval_metric=None, feature_types=None,\n",
       "              gamma=None, gpu_id=None, grow_policy=None, importance_type=None,\n",
       "              interaction_constraints=None, learning_rate=None, max_bin=None,\n",
       "              max_cat_threshold=None, max_cat_to_onehot=None,\n",
       "              max_delta_step=None, max_depth=None, max_leaves=None,\n",
       "              min_child_weight=None, missing=nan, monotone_constraints=None,\n",
       "              n_estimators=100, n_jobs=None, num_parallel_tree=None,\n",
       "              predictor=None, random_state=None, ...)"
      ]
     },
     "execution_count": 52,
     "metadata": {},
     "output_type": "execute_result"
    }
   ],
   "source": [
    "best_model = XGBClassifier()\n",
    "best_model.fit(X_train, y_train)"
   ]
  },
  {
   "cell_type": "code",
   "execution_count": null,
   "id": "0bb7f473",
   "metadata": {},
   "outputs": [],
   "source": []
  }
 ],
 "metadata": {
  "kernelspec": {
   "display_name": "Python 3 (ipykernel)",
   "language": "python",
   "name": "python3"
  },
  "language_info": {
   "codemirror_mode": {
    "name": "ipython",
    "version": 3
   },
   "file_extension": ".py",
   "mimetype": "text/x-python",
   "name": "python",
   "nbconvert_exporter": "python",
   "pygments_lexer": "ipython3",
   "version": "3.9.12"
  }
 },
 "nbformat": 4,
 "nbformat_minor": 5
}
